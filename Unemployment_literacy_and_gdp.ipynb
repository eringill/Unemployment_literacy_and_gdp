{
 "cells": [
  {
   "cell_type": "code",
   "execution_count": 45,
   "metadata": {},
   "outputs": [
    {
     "data": {
      "text/html": [
       "<div>\n",
       "<style scoped>\n",
       "    .dataframe tbody tr th:only-of-type {\n",
       "        vertical-align: middle;\n",
       "    }\n",
       "\n",
       "    .dataframe tbody tr th {\n",
       "        vertical-align: top;\n",
       "    }\n",
       "\n",
       "    .dataframe thead th {\n",
       "        text-align: right;\n",
       "    }\n",
       "</style>\n",
       "<table border=\"1\" class=\"dataframe\">\n",
       "  <thead>\n",
       "    <tr style=\"text-align: right;\">\n",
       "      <th></th>\n",
       "      <th>country</th>\n",
       "      <th>growth_rate</th>\n",
       "      <th>literacy_rate_percent_all</th>\n",
       "      <th>male_literacy_percent_rate</th>\n",
       "      <th>female_literacy_percent_rate</th>\n",
       "      <th>gender_difference_percentWorld</th>\n",
       "      <th>unemployment_percentage</th>\n",
       "      <th>youth_percentage</th>\n",
       "    </tr>\n",
       "  </thead>\n",
       "  <tbody>\n",
       "    <tr>\n",
       "      <th>0</th>\n",
       "      <td>Bangladesh</td>\n",
       "      <td>13.438</td>\n",
       "      <td>61.5</td>\n",
       "      <td>64.6</td>\n",
       "      <td>58.5</td>\n",
       "      <td>6.1</td>\n",
       "      <td>4.1</td>\n",
       "      <td>28.3</td>\n",
       "    </tr>\n",
       "    <tr>\n",
       "      <th>1</th>\n",
       "      <td>Ethiopia</td>\n",
       "      <td>8.464</td>\n",
       "      <td>49.1</td>\n",
       "      <td>57.2</td>\n",
       "      <td>41.1</td>\n",
       "      <td>16.1</td>\n",
       "      <td>17.5</td>\n",
       "      <td>43.7</td>\n",
       "    </tr>\n",
       "    <tr>\n",
       "      <th>2</th>\n",
       "      <td>China</td>\n",
       "      <td>6.800</td>\n",
       "      <td>96.4</td>\n",
       "      <td>98.2</td>\n",
       "      <td>94.5</td>\n",
       "      <td>3.7</td>\n",
       "      <td>4.0</td>\n",
       "      <td>17.1</td>\n",
       "    </tr>\n",
       "    <tr>\n",
       "      <th>3</th>\n",
       "      <td>Ivory Coast Cote d'Ivoire</td>\n",
       "      <td>7.632</td>\n",
       "      <td>NaN</td>\n",
       "      <td>NaN</td>\n",
       "      <td>NaN</td>\n",
       "      <td>NaN</td>\n",
       "      <td>NaN</td>\n",
       "      <td>NaN</td>\n",
       "    </tr>\n",
       "    <tr>\n",
       "      <th>4</th>\n",
       "      <td>Nepal</td>\n",
       "      <td>7.499</td>\n",
       "      <td>64.7</td>\n",
       "      <td>75.6</td>\n",
       "      <td>55.1</td>\n",
       "      <td>20.5</td>\n",
       "      <td>3.3</td>\n",
       "      <td>30.9</td>\n",
       "    </tr>\n",
       "  </tbody>\n",
       "</table>\n",
       "</div>"
      ],
      "text/plain": [
       "                     country  growth_rate  literacy_rate_percent_all  \\\n",
       "0                 Bangladesh       13.438                       61.5   \n",
       "1                   Ethiopia        8.464                       49.1   \n",
       "2                      China        6.800                       96.4   \n",
       "3  Ivory Coast Cote d'Ivoire        7.632                        NaN   \n",
       "4                      Nepal        7.499                       64.7   \n",
       "\n",
       "   male_literacy_percent_rate  female_literacy_percent_rate  \\\n",
       "0                        64.6                          58.5   \n",
       "1                        57.2                          41.1   \n",
       "2                        98.2                          94.5   \n",
       "3                         NaN                           NaN   \n",
       "4                        75.6                          55.1   \n",
       "\n",
       "   gender_difference_percentWorld  unemployment_percentage  youth_percentage  \n",
       "0                             6.1                      4.1              28.3  \n",
       "1                            16.1                     17.5              43.7  \n",
       "2                             3.7                      4.0              17.1  \n",
       "3                             NaN                      NaN               NaN  \n",
       "4                            20.5                      3.3              30.9  "
      ]
     },
     "execution_count": 45,
     "metadata": {},
     "output_type": "execute_result"
    }
   ],
   "source": [
    "import pandas as pd\n",
    "from matplotlib import pyplot as plt\n",
    "import seaborn as sns\n",
    "from sklearn.linear_model import LinearRegression\n",
    "from sklearn.model_selection import train_test_split\n",
    "from sklearn.metrics import r2_score, mean_squared_error\n",
    "import numpy as np\n",
    "pd.options.mode.chained_assignment = None \n",
    "\n",
    "%matplotlib inline\n",
    "\n",
    "\n",
    "#The data is contained in 4 .csv files\n",
    "gdp = pd.read_csv(\"data/datasets_15310_20369_gdp_improvement_rate.csv\")\n",
    "literacy = pd.read_csv(\"data/datasets_15310_20369_literacy_rate.csv\")\n",
    "unemployment = pd.read_csv(\"data/datasets_15310_20369_unemployment.csv\")\n",
    "youth = pd.read_csv(\"data/datasets_15310_20369_youth.csv\")\n",
    "\n",
    "#drop columns that are empty\n",
    "literacy.drop(['86.3', '90', '82.7', '7.3\\t'], inplace = True, axis = 1)\n",
    "\n",
    "\n",
    "#merge all data frames together\n",
    "gl = gdp.merge(literacy, on='country', how = 'outer')\n",
    "glu = gl.merge(unemployment, on='country', how = 'outer')\n",
    "df = glu.merge(youth, on='country', how = 'outer')\n",
    "\n",
    "#fix column names that contain spaces\n",
    "cols = []\n",
    "for col in list(df.columns):\n",
    "    col = col.replace(\" \", \"\")\n",
    "    cols.append(col)\n",
    "df.columns = cols\n",
    "\n",
    "df.head()"
   ]
  },
  {
   "cell_type": "code",
   "execution_count": 46,
   "metadata": {},
   "outputs": [
    {
     "data": {
      "text/plain": [
       "country                           100.000000\n",
       "growth_rate                        68.817204\n",
       "literacy_rate_percent_all          54.121864\n",
       "male_literacy_percent_rate         54.121864\n",
       "female_literacy_percent_rate       54.121864\n",
       "gender_difference_percentWorld     54.121864\n",
       "unemployment_percentage            78.853047\n",
       "youth_percentage                   82.795699\n",
       "dtype: float64"
      ]
     },
     "execution_count": 46,
     "metadata": {},
     "output_type": "execute_result"
    }
   ],
   "source": [
    "#find the percent of data that is **present** in each column\n",
    "(df.shape[0] - df.isnull().sum())/df.shape[0] * 100"
   ]
  },
  {
   "cell_type": "code",
   "execution_count": 47,
   "metadata": {},
   "outputs": [
    {
     "data": {
      "text/plain": [
       "(279, 8)"
      ]
     },
     "execution_count": 47,
     "metadata": {},
     "output_type": "execute_result"
    }
   ],
   "source": [
    "#the most data is missing in the literacy and gender difference columns (about 46%)\n",
    "\n",
    "#get total df size\n",
    "df.shape"
   ]
  },
  {
   "cell_type": "code",
   "execution_count": 48,
   "metadata": {},
   "outputs": [
    {
     "data": {
      "text/plain": [
       "276"
      ]
     },
     "execution_count": 48,
     "metadata": {},
     "output_type": "execute_result"
    }
   ],
   "source": [
    "#Is this the same as the number of **unique** values in the country column?\n",
    "df['country'].nunique()"
   ]
  },
  {
   "cell_type": "code",
   "execution_count": 49,
   "metadata": {},
   "outputs": [
    {
     "data": {
      "text/plain": [
       "(276, 8)"
      ]
     },
     "execution_count": 49,
     "metadata": {},
     "output_type": "execute_result"
    }
   ],
   "source": [
    "#Let's remove rows where there are duplicate country names\n",
    "df.drop_duplicates(subset='country', keep=\"first\", inplace = True)\n",
    "df.shape"
   ]
  },
  {
   "cell_type": "code",
   "execution_count": 50,
   "metadata": {},
   "outputs": [
    {
     "data": {
      "text/plain": [
       "217"
      ]
     },
     "execution_count": 50,
     "metadata": {},
     "output_type": "execute_result"
    }
   ],
   "source": [
    "#how many values are **present** in the \"unemployment_percentage\" column\n",
    "df.shape[0] - df['unemployment_percentage'].isnull().sum()"
   ]
  },
  {
   "cell_type": "code",
   "execution_count": 51,
   "metadata": {},
   "outputs": [
    {
     "data": {
      "text/plain": [
       "(array([0, 1, 2, 3, 4, 5, 6]), <a list of 7 Text xticklabel objects>)"
      ]
     },
     "execution_count": 51,
     "metadata": {},
     "output_type": "execute_result"
    },
    {
     "data": {
      "image/png": "[encoded data removed]",
      "text/plain": [
       "<Figure size 1080x504 with 1 Axes>"
      ]
     },
     "metadata": {
      "needs_background": "light"
     },
     "output_type": "display_data"
    }
   ],
   "source": [
    "#Let's see how the data are distributed.\n",
    "fig, ax = plt.subplots(figsize = (15, 7))\n",
    "sns.violinplot(data=df.iloc[:,1:8])\n",
    "plt.xticks(rotation=90)"
   ]
  },
  {
   "cell_type": "code",
   "execution_count": 52,
   "metadata": {},
   "outputs": [
    {
     "name": "stderr",
     "output_type": "stream",
     "text": [
      "/Users/egill/anaconda3/lib/python3.7/site-packages/numpy/lib/histograms.py:829: RuntimeWarning: invalid value encountered in greater_equal\n",
      "  keep = (tmp_a >= first_edge)\n",
      "/Users/egill/anaconda3/lib/python3.7/site-packages/numpy/lib/histograms.py:830: RuntimeWarning: invalid value encountered in less_equal\n",
      "  keep &= (tmp_a <= last_edge)\n"
     ]
    },
    {
     "data": {
      "text/plain": [
       "<matplotlib.lines.Line2D at 0x7ff9274e2bd0>"
      ]
     },
     "execution_count": 52,
     "metadata": {},
     "output_type": "execute_result"
    },
    {
     "data": {
      "image/png": "[encoded data removed]",
      "text/plain": [
       "<Figure size 432x288 with 1 Axes>"
      ]
     },
     "metadata": {
      "needs_background": "light"
     },
     "output_type": "display_data"
    }
   ],
   "source": [
    "#Those are some pretty large spreads for literacy rates and unemployment percentage\n",
    "\n",
    "#I'd like to get a better look at the distribution of the unemployment data\n",
    "plt.hist(df['unemployment_percentage'], bins=20, edgecolor=\"black\")\n",
    "plt.xlabel('Percent of Residents Unemployed')\n",
    "plt.ylabel('Count')\n",
    "#let's plot the data mean with a red line\n",
    "plt.axvline(df['unemployment_percentage'].mean(), color=\"red\", linewidth = 1)\n",
    "#and the data median with a green line\n",
    "plt.axvline(df['unemployment_percentage'].median(), color=\"green\", linewidth = 1)"
   ]
  },
  {
   "cell_type": "code",
   "execution_count": 53,
   "metadata": {},
   "outputs": [
    {
     "data": {
      "text/html": [
       "<div>\n",
       "<style scoped>\n",
       "    .dataframe tbody tr th:only-of-type {\n",
       "        vertical-align: middle;\n",
       "    }\n",
       "\n",
       "    .dataframe tbody tr th {\n",
       "        vertical-align: top;\n",
       "    }\n",
       "\n",
       "    .dataframe thead th {\n",
       "        text-align: right;\n",
       "    }\n",
       "</style>\n",
       "<table border=\"1\" class=\"dataframe\">\n",
       "  <thead>\n",
       "    <tr style=\"text-align: right;\">\n",
       "      <th></th>\n",
       "      <th>country</th>\n",
       "      <th>growth_rate</th>\n",
       "      <th>literacy_rate_percent_all</th>\n",
       "      <th>male_literacy_percent_rate</th>\n",
       "      <th>female_literacy_percent_rate</th>\n",
       "      <th>gender_difference_percentWorld</th>\n",
       "      <th>unemployment_percentage</th>\n",
       "      <th>youth_percentage</th>\n",
       "    </tr>\n",
       "  </thead>\n",
       "  <tbody>\n",
       "    <tr>\n",
       "      <th>0</th>\n",
       "      <td>Bangladesh</td>\n",
       "      <td>13.438</td>\n",
       "      <td>61.5</td>\n",
       "      <td>64.6</td>\n",
       "      <td>58.5</td>\n",
       "      <td>6.1</td>\n",
       "      <td>4.1</td>\n",
       "      <td>28.3</td>\n",
       "    </tr>\n",
       "    <tr>\n",
       "      <th>1</th>\n",
       "      <td>Ethiopia</td>\n",
       "      <td>8.464</td>\n",
       "      <td>49.1</td>\n",
       "      <td>57.2</td>\n",
       "      <td>41.1</td>\n",
       "      <td>16.1</td>\n",
       "      <td>17.5</td>\n",
       "      <td>43.7</td>\n",
       "    </tr>\n",
       "    <tr>\n",
       "      <th>2</th>\n",
       "      <td>China</td>\n",
       "      <td>6.800</td>\n",
       "      <td>96.4</td>\n",
       "      <td>98.2</td>\n",
       "      <td>94.5</td>\n",
       "      <td>3.7</td>\n",
       "      <td>4.0</td>\n",
       "      <td>17.1</td>\n",
       "    </tr>\n",
       "    <tr>\n",
       "      <th>3</th>\n",
       "      <td>Ivory Coast Cote d'Ivoire</td>\n",
       "      <td>7.632</td>\n",
       "      <td>NaN</td>\n",
       "      <td>NaN</td>\n",
       "      <td>NaN</td>\n",
       "      <td>NaN</td>\n",
       "      <td>NaN</td>\n",
       "      <td>NaN</td>\n",
       "    </tr>\n",
       "    <tr>\n",
       "      <th>4</th>\n",
       "      <td>Nepal</td>\n",
       "      <td>7.499</td>\n",
       "      <td>64.7</td>\n",
       "      <td>75.6</td>\n",
       "      <td>55.1</td>\n",
       "      <td>20.5</td>\n",
       "      <td>3.3</td>\n",
       "      <td>30.9</td>\n",
       "    </tr>\n",
       "  </tbody>\n",
       "</table>\n",
       "</div>"
      ],
      "text/plain": [
       "                     country  growth_rate  literacy_rate_percent_all  \\\n",
       "0                 Bangladesh       13.438                       61.5   \n",
       "1                   Ethiopia        8.464                       49.1   \n",
       "2                      China        6.800                       96.4   \n",
       "3  Ivory Coast Cote d'Ivoire        7.632                        NaN   \n",
       "4                      Nepal        7.499                       64.7   \n",
       "\n",
       "   male_literacy_percent_rate  female_literacy_percent_rate  \\\n",
       "0                        64.6                          58.5   \n",
       "1                        57.2                          41.1   \n",
       "2                        98.2                          94.5   \n",
       "3                         NaN                           NaN   \n",
       "4                        75.6                          55.1   \n",
       "\n",
       "   gender_difference_percentWorld  unemployment_percentage  youth_percentage  \n",
       "0                             6.1                      4.1              28.3  \n",
       "1                            16.1                     17.5              43.7  \n",
       "2                             3.7                      4.0              17.1  \n",
       "3                             NaN                      NaN               NaN  \n",
       "4                            20.5                      3.3              30.9  "
      ]
     },
     "execution_count": 53,
     "metadata": {},
     "output_type": "execute_result"
    }
   ],
   "source": [
    "#Looks like the data have a right-skewed distribution. Most countries have a relatively low rate of unemployment,\n",
    "#but some countries are particularly hard-hit.\n",
    "\n",
    "#Let's investigate which factors in our data frame are correlated with unemployment.\n",
    "\n",
    "#First we'll have to clean the data.\n",
    "df.head()"
   ]
  },
  {
   "cell_type": "code",
   "execution_count": 54,
   "metadata": {},
   "outputs": [],
   "source": [
    "def clean_data(df):\n",
    "    # Drop rows with missing unemployment values\n",
    "    df.dropna(subset=['unemployment_percentage'], axis=0, inplace = True)\n",
    "    \n",
    "    #subset y data\n",
    "    y = df['unemployment_percentage']\n",
    "    \n",
    "    #drop y data and country name\n",
    "    df1 = df.drop(['country', 'unemployment_percentage'], axis = 1)\n",
    "    \n",
    "    # Fill numeric columns with the mean\n",
    "    num_vars = df1.select_dtypes(include=['float', 'int']).columns\n",
    "    for col in num_vars:\n",
    "        df1[col].fillna((df1[col].mean()), inplace=True)\n",
    "        \n",
    "    X = df1\n",
    "    return X, y\n",
    "    \n",
    "#Use the function to create X and y\n",
    "X, y = clean_data(df)  \n"
   ]
  },
  {
   "cell_type": "code",
   "execution_count": 55,
   "metadata": {},
   "outputs": [
    {
     "name": "stdout",
     "output_type": "stream",
     "text": [
      "(217, 6)\n",
      "(217,)\n"
     ]
    }
   ],
   "source": [
    "#let's check whether everything worked as expected\n",
    "print(X.shape)\n",
    "print(y.shape)"
   ]
  },
  {
   "cell_type": "code",
   "execution_count": 56,
   "metadata": {},
   "outputs": [
    {
     "data": {
      "text/plain": [
       "growth_rate                       100.0\n",
       "literacy_rate_percent_all         100.0\n",
       "male_literacy_percent_rate        100.0\n",
       "female_literacy_percent_rate      100.0\n",
       "gender_difference_percentWorld    100.0\n",
       "youth_percentage                  100.0\n",
       "dtype: float64"
      ]
     },
     "execution_count": 56,
     "metadata": {},
     "output_type": "execute_result"
    }
   ],
   "source": [
    "#Looks like we have all 217 rows that contain unique county names. \n",
    "#Sanity check to make sure all NaNs in X have been filled\n",
    "(X.shape[0] - X.isnull().sum())/X.shape[0] * 100"
   ]
  },
  {
   "cell_type": "code",
   "execution_count": 57,
   "metadata": {},
   "outputs": [
    {
     "name": "stdout",
     "output_type": "stream",
     "text": [
      "0.029505622775982454 0.11777374579277355\n"
     ]
    }
   ],
   "source": [
    "#Now we'll fit a linear model\n",
    "#split data\n",
    "X_train, X_test, y_train, y_test = train_test_split(X, y, test_size = 0.3, random_state=25) \n",
    "\n",
    "\n",
    "lm_model = LinearRegression(normalize=True) \n",
    "lm_model.fit(X_train, y_train)\n",
    "    \n",
    "y_train_preds = lm_model.predict(X_train)\n",
    "train_score = (r2_score(y_train, y_train_preds))\n",
    "    \n",
    "y_test_preds = lm_model.predict(X_test) \n",
    "test_score = (r2_score(y_test, y_test_preds))\n",
    " \n",
    "#evaluate model\n",
    "print(test_score, train_score)"
   ]
  },
  {
   "cell_type": "code",
   "execution_count": 58,
   "metadata": {},
   "outputs": [
    {
     "data": {
      "text/html": [
       "<div>\n",
       "<style scoped>\n",
       "    .dataframe tbody tr th:only-of-type {\n",
       "        vertical-align: middle;\n",
       "    }\n",
       "\n",
       "    .dataframe tbody tr th {\n",
       "        vertical-align: top;\n",
       "    }\n",
       "\n",
       "    .dataframe thead th {\n",
       "        text-align: right;\n",
       "    }\n",
       "</style>\n",
       "<table border=\"1\" class=\"dataframe\">\n",
       "  <thead>\n",
       "    <tr style=\"text-align: right;\">\n",
       "      <th></th>\n",
       "      <th>est_int</th>\n",
       "      <th>coefs</th>\n",
       "      <th>abs_coefs</th>\n",
       "    </tr>\n",
       "  </thead>\n",
       "  <tbody>\n",
       "    <tr>\n",
       "      <th>3</th>\n",
       "      <td>female_literacy_percent_rate</td>\n",
       "      <td>9.723656</td>\n",
       "      <td>9.723656</td>\n",
       "    </tr>\n",
       "    <tr>\n",
       "      <th>4</th>\n",
       "      <td>gender_difference_percentWorld</td>\n",
       "      <td>8.194063</td>\n",
       "      <td>8.194063</td>\n",
       "    </tr>\n",
       "    <tr>\n",
       "      <th>2</th>\n",
       "      <td>male_literacy_percent_rate</td>\n",
       "      <td>-7.074178</td>\n",
       "      <td>7.074178</td>\n",
       "    </tr>\n",
       "    <tr>\n",
       "      <th>1</th>\n",
       "      <td>literacy_rate_percent_all</td>\n",
       "      <td>-2.729481</td>\n",
       "      <td>2.729481</td>\n",
       "    </tr>\n",
       "    <tr>\n",
       "      <th>0</th>\n",
       "      <td>growth_rate</td>\n",
       "      <td>-0.547518</td>\n",
       "      <td>0.547518</td>\n",
       "    </tr>\n",
       "    <tr>\n",
       "      <th>5</th>\n",
       "      <td>youth_percentage</td>\n",
       "      <td>0.474476</td>\n",
       "      <td>0.474476</td>\n",
       "    </tr>\n",
       "  </tbody>\n",
       "</table>\n",
       "</div>"
      ],
      "text/plain": [
       "                          est_int     coefs  abs_coefs\n",
       "3    female_literacy_percent_rate  9.723656   9.723656\n",
       "4  gender_difference_percentWorld  8.194063   8.194063\n",
       "2      male_literacy_percent_rate -7.074178   7.074178\n",
       "1       literacy_rate_percent_all -2.729481   2.729481\n",
       "0                     growth_rate -0.547518   0.547518\n",
       "5                youth_percentage  0.474476   0.474476"
      ]
     },
     "execution_count": 58,
     "metadata": {},
     "output_type": "execute_result"
    }
   ],
   "source": [
    "#It looks like only about 3% of the variation we're seeing in the unemployment rates\n",
    "#can be explained by the factors that we're examining here.\n",
    "\n",
    "#Let's look at what the most influential variables are\n",
    "def coef_weights(coefficients, X_train):\n",
    "\n",
    "    coefs_df = pd.DataFrame()\n",
    "    coefs_df['est_int'] = X_train.columns\n",
    "    coefs_df['coefs'] = lm_model.coef_\n",
    "    coefs_df['abs_coefs'] = np.abs(lm_model.coef_)\n",
    "    coefs_df = coefs_df.sort_values('abs_coefs', ascending=False)\n",
    "    return coefs_df\n",
    "\n",
    "#Use the function\n",
    "coef_df = coef_weights(lm_model.coef_, X_train)\n",
    "\n",
    "#A quick look at the top results\n",
    "coef_df"
   ]
  },
  {
   "cell_type": "code",
   "execution_count": 39,
   "metadata": {},
   "outputs": [],
   "source": [
    "#It looks like percent of the female popluation of a country that is literate has the largest \n",
    "#effect on unemployment, followed by the percent gender difference.\n",
    "\n",
    "#But wait - female literacy rate is **positively** correlated with unemployment?\n",
    "#While male and total literacy rate are negatively correlated with unemployment as expected.\n"
   ]
  },
  {
   "cell_type": "code",
   "execution_count": 95,
   "metadata": {},
   "outputs": [],
   "source": [
    "#What happens if we change the random state of our model?\n",
    "\n",
    "random_states = [1, 2, 3, 4, 5, 6, 7, 8, 9, 10]\n",
    "\n",
    "def fit_model(X, y, random_states):\n",
    "    column_names = [\"rand_state\", \"est_int\", \"coefs\", \"abs_coefs\"]\n",
    "    all_coefs = pd.DataFrame(columns = column_names)\n",
    "    all_scores = []\n",
    "    for i in random_states:\n",
    "        X_train, X_test, y_train, y_test = train_test_split(X, y, test_size = 0.3, random_state=i) \n",
    "\n",
    "        lm_model = LinearRegression(normalize=True) \n",
    "        lm_model.fit(X_train, y_train)\n",
    "    \n",
    "        y_train_preds = lm_model.predict(X_train)\n",
    "        train_score = (r2_score(y_train, y_train_preds))\n",
    "    \n",
    "        y_test_preds = lm_model.predict(X_test) \n",
    "        test_score = (r2_score(y_test, y_test_preds))\n",
    "        \n",
    "        #make a dataframe containing all of the variables' coefficients and r2 values\n",
    "        #for each random state tested\n",
    "        coefs_df = pd.DataFrame()\n",
    "        coefs_df['est_int'] = X_train.columns\n",
    "        coefs_df['coefs'] = lm_model.coef_\n",
    "        coefs_df['abs_coefs'] = np.abs(lm_model.coef_)\n",
    "        coefs_df['rand_state'] = i\n",
    "        coefs_df['r2'] = test_score\n",
    "        coefs_df = coefs_df.sort_values('abs_coefs', ascending=False)\n",
    "        \n",
    "        all_coefs = pd.concat([all_coefs, coefs_df], axis = 0, ignore_index = True)\n",
    "        all_scores.append(test_score)\n",
    "    return all_coefs, all_scores\n",
    "    \n",
    "coefs, scores = fit_model(X, y, random_states)\n",
    "    "
   ]
  },
  {
   "cell_type": "code",
   "execution_count": 99,
   "metadata": {},
   "outputs": [
    {
     "data": {
      "text/html": [
       "<div>\n",
       "<style scoped>\n",
       "    .dataframe tbody tr th:only-of-type {\n",
       "        vertical-align: middle;\n",
       "    }\n",
       "\n",
       "    .dataframe tbody tr th {\n",
       "        vertical-align: top;\n",
       "    }\n",
       "\n",
       "    .dataframe thead th {\n",
       "        text-align: right;\n",
       "    }\n",
       "</style>\n",
       "<table border=\"1\" class=\"dataframe\">\n",
       "  <thead>\n",
       "    <tr style=\"text-align: right;\">\n",
       "      <th></th>\n",
       "      <th>rand_state</th>\n",
       "      <th>est_int</th>\n",
       "      <th>coefs</th>\n",
       "      <th>abs_coefs</th>\n",
       "      <th>r2</th>\n",
       "    </tr>\n",
       "  </thead>\n",
       "  <tbody>\n",
       "    <tr>\n",
       "      <th>0</th>\n",
       "      <td>1</td>\n",
       "      <td>female_literacy_percent_rate</td>\n",
       "      <td>11.602071</td>\n",
       "      <td>11.602071</td>\n",
       "      <td>0.036533</td>\n",
       "    </tr>\n",
       "    <tr>\n",
       "      <th>1</th>\n",
       "      <td>1</td>\n",
       "      <td>gender_difference_percentWorld</td>\n",
       "      <td>10.746925</td>\n",
       "      <td>10.746925</td>\n",
       "      <td>0.036533</td>\n",
       "    </tr>\n",
       "    <tr>\n",
       "      <th>2</th>\n",
       "      <td>1</td>\n",
       "      <td>male_literacy_percent_rate</td>\n",
       "      <td>-9.668897</td>\n",
       "      <td>9.668897</td>\n",
       "      <td>0.036533</td>\n",
       "    </tr>\n",
       "    <tr>\n",
       "      <th>3</th>\n",
       "      <td>1</td>\n",
       "      <td>literacy_rate_percent_all</td>\n",
       "      <td>-1.813113</td>\n",
       "      <td>1.813113</td>\n",
       "      <td>0.036533</td>\n",
       "    </tr>\n",
       "    <tr>\n",
       "      <th>4</th>\n",
       "      <td>1</td>\n",
       "      <td>growth_rate</td>\n",
       "      <td>-0.767940</td>\n",
       "      <td>0.767940</td>\n",
       "      <td>0.036533</td>\n",
       "    </tr>\n",
       "  </tbody>\n",
       "</table>\n",
       "</div>"
      ],
      "text/plain": [
       "  rand_state                         est_int      coefs  abs_coefs        r2\n",
       "0          1    female_literacy_percent_rate  11.602071  11.602071  0.036533\n",
       "1          1  gender_difference_percentWorld  10.746925  10.746925  0.036533\n",
       "2          1      male_literacy_percent_rate  -9.668897   9.668897  0.036533\n",
       "3          1       literacy_rate_percent_all  -1.813113   1.813113  0.036533\n",
       "4          1                     growth_rate  -0.767940   0.767940  0.036533"
      ]
     },
     "execution_count": 99,
     "metadata": {},
     "output_type": "execute_result"
    }
   ],
   "source": [
    "#That is a huge range for the test r2 score: -0.25 to 0.13!\n",
    "#The range for the coefficient of female literacy rate percentage\n",
    "#is also huge: 11.60 to 29.59\n",
    "coefs.head()"
   ]
  },
  {
   "cell_type": "code",
   "execution_count": 101,
   "metadata": {},
   "outputs": [
    {
     "data": {
      "text/html": [
       "<div>\n",
       "<style scoped>\n",
       "    .dataframe tbody tr th:only-of-type {\n",
       "        vertical-align: middle;\n",
       "    }\n",
       "\n",
       "    .dataframe tbody tr th {\n",
       "        vertical-align: top;\n",
       "    }\n",
       "\n",
       "    .dataframe thead th {\n",
       "        text-align: right;\n",
       "    }\n",
       "</style>\n",
       "<table border=\"1\" class=\"dataframe\">\n",
       "  <thead>\n",
       "    <tr style=\"text-align: right;\">\n",
       "      <th>est_int</th>\n",
       "      <th>r2</th>\n",
       "      <th>female_literacy_percent_rate</th>\n",
       "      <th>gender_difference_percentWorld</th>\n",
       "      <th>growth_rate</th>\n",
       "      <th>literacy_rate_percent_all</th>\n",
       "      <th>male_literacy_percent_rate</th>\n",
       "      <th>youth_percentage</th>\n",
       "    </tr>\n",
       "  </thead>\n",
       "  <tbody>\n",
       "    <tr>\n",
       "      <th>0</th>\n",
       "      <td>-0.254650</td>\n",
       "      <td>18.767351</td>\n",
       "      <td>15.630539</td>\n",
       "      <td>-0.831380</td>\n",
       "      <td>-5.574522</td>\n",
       "      <td>-13.456677</td>\n",
       "      <td>0.439297</td>\n",
       "    </tr>\n",
       "    <tr>\n",
       "      <th>1</th>\n",
       "      <td>-0.191313</td>\n",
       "      <td>26.103506</td>\n",
       "      <td>24.602119</td>\n",
       "      <td>-0.556595</td>\n",
       "      <td>-2.972017</td>\n",
       "      <td>-23.160227</td>\n",
       "      <td>0.515908</td>\n",
       "    </tr>\n",
       "    <tr>\n",
       "      <th>2</th>\n",
       "      <td>-0.185582</td>\n",
       "      <td>28.657761</td>\n",
       "      <td>25.133179</td>\n",
       "      <td>-0.898253</td>\n",
       "      <td>-6.871001</td>\n",
       "      <td>-21.763953</td>\n",
       "      <td>0.560306</td>\n",
       "    </tr>\n",
       "    <tr>\n",
       "      <th>3</th>\n",
       "      <td>-0.023459</td>\n",
       "      <td>22.608534</td>\n",
       "      <td>20.371416</td>\n",
       "      <td>-0.460479</td>\n",
       "      <td>-3.960641</td>\n",
       "      <td>-18.718782</td>\n",
       "      <td>0.529408</td>\n",
       "    </tr>\n",
       "    <tr>\n",
       "      <th>4</th>\n",
       "      <td>0.002747</td>\n",
       "      <td>29.587111</td>\n",
       "      <td>26.711624</td>\n",
       "      <td>-0.475805</td>\n",
       "      <td>-5.486472</td>\n",
       "      <td>-23.957821</td>\n",
       "      <td>0.611338</td>\n",
       "    </tr>\n",
       "    <tr>\n",
       "      <th>5</th>\n",
       "      <td>0.025601</td>\n",
       "      <td>22.647529</td>\n",
       "      <td>22.735197</td>\n",
       "      <td>-0.603625</td>\n",
       "      <td>-0.167604</td>\n",
       "      <td>-22.270011</td>\n",
       "      <td>0.464309</td>\n",
       "    </tr>\n",
       "    <tr>\n",
       "      <th>6</th>\n",
       "      <td>0.036533</td>\n",
       "      <td>11.602071</td>\n",
       "      <td>10.746925</td>\n",
       "      <td>-0.767940</td>\n",
       "      <td>-1.813113</td>\n",
       "      <td>-9.668897</td>\n",
       "      <td>0.391593</td>\n",
       "    </tr>\n",
       "    <tr>\n",
       "      <th>7</th>\n",
       "      <td>0.049947</td>\n",
       "      <td>-13.448525</td>\n",
       "      <td>-13.624515</td>\n",
       "      <td>-0.564378</td>\n",
       "      <td>-0.259564</td>\n",
       "      <td>13.827862</td>\n",
       "      <td>0.473628</td>\n",
       "    </tr>\n",
       "    <tr>\n",
       "      <th>8</th>\n",
       "      <td>0.097221</td>\n",
       "      <td>14.678218</td>\n",
       "      <td>12.286586</td>\n",
       "      <td>-0.595563</td>\n",
       "      <td>-4.945861</td>\n",
       "      <td>-9.638249</td>\n",
       "      <td>0.381763</td>\n",
       "    </tr>\n",
       "    <tr>\n",
       "      <th>9</th>\n",
       "      <td>0.130103</td>\n",
       "      <td>15.638747</td>\n",
       "      <td>14.446477</td>\n",
       "      <td>-0.449147</td>\n",
       "      <td>-2.283089</td>\n",
       "      <td>-13.294857</td>\n",
       "      <td>0.449489</td>\n",
       "    </tr>\n",
       "  </tbody>\n",
       "</table>\n",
       "</div>"
      ],
      "text/plain": [
       "est_int        r2  female_literacy_percent_rate  \\\n",
       "0       -0.254650                     18.767351   \n",
       "1       -0.191313                     26.103506   \n",
       "2       -0.185582                     28.657761   \n",
       "3       -0.023459                     22.608534   \n",
       "4        0.002747                     29.587111   \n",
       "5        0.025601                     22.647529   \n",
       "6        0.036533                     11.602071   \n",
       "7        0.049947                    -13.448525   \n",
       "8        0.097221                     14.678218   \n",
       "9        0.130103                     15.638747   \n",
       "\n",
       "est_int  gender_difference_percentWorld  growth_rate  \\\n",
       "0                             15.630539    -0.831380   \n",
       "1                             24.602119    -0.556595   \n",
       "2                             25.133179    -0.898253   \n",
       "3                             20.371416    -0.460479   \n",
       "4                             26.711624    -0.475805   \n",
       "5                             22.735197    -0.603625   \n",
       "6                             10.746925    -0.767940   \n",
       "7                            -13.624515    -0.564378   \n",
       "8                             12.286586    -0.595563   \n",
       "9                             14.446477    -0.449147   \n",
       "\n",
       "est_int  literacy_rate_percent_all  male_literacy_percent_rate  \\\n",
       "0                        -5.574522                  -13.456677   \n",
       "1                        -2.972017                  -23.160227   \n",
       "2                        -6.871001                  -21.763953   \n",
       "3                        -3.960641                  -18.718782   \n",
       "4                        -5.486472                  -23.957821   \n",
       "5                        -0.167604                  -22.270011   \n",
       "6                        -1.813113                   -9.668897   \n",
       "7                        -0.259564                   13.827862   \n",
       "8                        -4.945861                   -9.638249   \n",
       "9                        -2.283089                  -13.294857   \n",
       "\n",
       "est_int  youth_percentage  \n",
       "0                0.439297  \n",
       "1                0.515908  \n",
       "2                0.560306  \n",
       "3                0.529408  \n",
       "4                0.611338  \n",
       "5                0.464309  \n",
       "6                0.391593  \n",
       "7                0.473628  \n",
       "8                0.381763  \n",
       "9                0.449489  "
      ]
     },
     "execution_count": 101,
     "metadata": {},
     "output_type": "execute_result"
    }
   ],
   "source": [
    "#now let's pivot the results so that we \n",
    "coefs_pivot = coefs.pivot(index = 'r2', columns = 'est_int', values = 'coefs').reset_index().sort_values(by = ['r2'])\n",
    "coefs_pivot"
   ]
  },
  {
   "cell_type": "code",
   "execution_count": 89,
   "metadata": {},
   "outputs": [
    {
     "data": {
      "text/html": [
       "<div>\n",
       "<style scoped>\n",
       "    .dataframe tbody tr th:only-of-type {\n",
       "        vertical-align: middle;\n",
       "    }\n",
       "\n",
       "    .dataframe tbody tr th {\n",
       "        vertical-align: top;\n",
       "    }\n",
       "\n",
       "    .dataframe thead th {\n",
       "        text-align: right;\n",
       "    }\n",
       "</style>\n",
       "<table border=\"1\" class=\"dataframe\">\n",
       "  <thead>\n",
       "    <tr style=\"text-align: right;\">\n",
       "      <th></th>\n",
       "      <th>rand_state</th>\n",
       "      <th>est_int</th>\n",
       "      <th>coefs</th>\n",
       "      <th>abs_coefs</th>\n",
       "    </tr>\n",
       "  </thead>\n",
       "  <tbody>\n",
       "  </tbody>\n",
       "</table>\n",
       "</div>"
      ],
      "text/plain": [
       "Empty DataFrame\n",
       "Columns: [rand_state, est_int, coefs, abs_coefs]\n",
       "Index: []"
      ]
     },
     "execution_count": 89,
     "metadata": {},
     "output_type": "execute_result"
    }
   ],
   "source": []
  },
  {
   "cell_type": "code",
   "execution_count": null,
   "metadata": {},
   "outputs": [],
   "source": []
  }
 ],
 "metadata": {
  "kernelspec": {
   "display_name": "Python 3",
   "language": "python",
   "name": "python3"
  },
  "language_info": {
   "codemirror_mode": {
    "name": "ipython",
    "version": 3
   },
   "file_extension": ".py",
   "mimetype": "text/x-python",
   "name": "python",
   "nbconvert_exporter": "python",
   "pygments_lexer": "ipython3",
   "version": "3.7.4"
  }
 },
 "nbformat": 4,
 "nbformat_minor": 2
}
