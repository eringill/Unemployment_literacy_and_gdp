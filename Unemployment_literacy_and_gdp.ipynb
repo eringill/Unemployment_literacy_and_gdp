{
 "cells": [
  {
   "cell_type": "code",
   "execution_count": 160,
   "metadata": {},
   "outputs": [
    {
     "data": {
      "text/html": [
       "<div>\n",
       "<style scoped>\n",
       "    .dataframe tbody tr th:only-of-type {\n",
       "        vertical-align: middle;\n",
       "    }\n",
       "\n",
       "    .dataframe tbody tr th {\n",
       "        vertical-align: top;\n",
       "    }\n",
       "\n",
       "    .dataframe thead th {\n",
       "        text-align: right;\n",
       "    }\n",
       "</style>\n",
       "<table border=\"1\" class=\"dataframe\">\n",
       "  <thead>\n",
       "    <tr style=\"text-align: right;\">\n",
       "      <th></th>\n",
       "      <th>country</th>\n",
       "      <th>growth_rate</th>\n",
       "      <th>literacy_rate_percent_all</th>\n",
       "      <th>male_literacy_percent_rate</th>\n",
       "      <th>female_literacy_percent_rate</th>\n",
       "      <th>gender_difference_percentWorld</th>\n",
       "      <th>unemployment_percentage</th>\n",
       "      <th>youth_percentage</th>\n",
       "    </tr>\n",
       "  </thead>\n",
       "  <tbody>\n",
       "    <tr>\n",
       "      <th>0</th>\n",
       "      <td>Bangladesh</td>\n",
       "      <td>13.438</td>\n",
       "      <td>61.5</td>\n",
       "      <td>64.6</td>\n",
       "      <td>58.5</td>\n",
       "      <td>6.1</td>\n",
       "      <td>4.1</td>\n",
       "      <td>28.3</td>\n",
       "    </tr>\n",
       "    <tr>\n",
       "      <th>1</th>\n",
       "      <td>Ethiopia</td>\n",
       "      <td>8.464</td>\n",
       "      <td>49.1</td>\n",
       "      <td>57.2</td>\n",
       "      <td>41.1</td>\n",
       "      <td>16.1</td>\n",
       "      <td>17.5</td>\n",
       "      <td>43.7</td>\n",
       "    </tr>\n",
       "    <tr>\n",
       "      <th>2</th>\n",
       "      <td>China</td>\n",
       "      <td>6.800</td>\n",
       "      <td>96.4</td>\n",
       "      <td>98.2</td>\n",
       "      <td>94.5</td>\n",
       "      <td>3.7</td>\n",
       "      <td>4.0</td>\n",
       "      <td>17.1</td>\n",
       "    </tr>\n",
       "    <tr>\n",
       "      <th>3</th>\n",
       "      <td>Ivory Coast Cote d'Ivoire</td>\n",
       "      <td>7.632</td>\n",
       "      <td>NaN</td>\n",
       "      <td>NaN</td>\n",
       "      <td>NaN</td>\n",
       "      <td>NaN</td>\n",
       "      <td>NaN</td>\n",
       "      <td>NaN</td>\n",
       "    </tr>\n",
       "    <tr>\n",
       "      <th>4</th>\n",
       "      <td>Nepal</td>\n",
       "      <td>7.499</td>\n",
       "      <td>64.7</td>\n",
       "      <td>75.6</td>\n",
       "      <td>55.1</td>\n",
       "      <td>20.5</td>\n",
       "      <td>3.3</td>\n",
       "      <td>30.9</td>\n",
       "    </tr>\n",
       "  </tbody>\n",
       "</table>\n",
       "</div>"
      ],
      "text/plain": [
       "                     country  growth_rate  literacy_rate_percent_all  \\\n",
       "0                 Bangladesh       13.438                       61.5   \n",
       "1                   Ethiopia        8.464                       49.1   \n",
       "2                      China        6.800                       96.4   \n",
       "3  Ivory Coast Cote d'Ivoire        7.632                        NaN   \n",
       "4                      Nepal        7.499                       64.7   \n",
       "\n",
       "   male_literacy_percent_rate  female_literacy_percent_rate  \\\n",
       "0                        64.6                          58.5   \n",
       "1                        57.2                          41.1   \n",
       "2                        98.2                          94.5   \n",
       "3                         NaN                           NaN   \n",
       "4                        75.6                          55.1   \n",
       "\n",
       "   gender_difference_percentWorld  unemployment_percentage  youth_percentage  \n",
       "0                             6.1                      4.1              28.3  \n",
       "1                            16.1                     17.5              43.7  \n",
       "2                             3.7                      4.0              17.1  \n",
       "3                             NaN                      NaN               NaN  \n",
       "4                            20.5                      3.3              30.9  "
      ]
     },
     "execution_count": 160,
     "metadata": {},
     "output_type": "execute_result"
    }
   ],
   "source": [
    "import pandas as pd\n",
    "from matplotlib import pyplot as plt\n",
    "import seaborn as sns\n",
    "from sklearn.linear_model import LinearRegression\n",
    "from sklearn.model_selection import train_test_split\n",
    "from sklearn.metrics import r2_score, mean_squared_error\n",
    "import numpy as np\n",
    "pd.options.mode.chained_assignment = None \n",
    "\n",
    "%matplotlib inline\n",
    "\n",
    "\n",
    "#The data is contained in 4 .csv files\n",
    "gdp = pd.read_csv(\"data/datasets_15310_20369_gdp_improvement_rate.csv\")\n",
    "literacy = pd.read_csv(\"data/datasets_15310_20369_literacy_rate.csv\")\n",
    "unemployment = pd.read_csv(\"data/datasets_15310_20369_unemployment.csv\")\n",
    "youth = pd.read_csv(\"data/datasets_15310_20369_youth.csv\")\n",
    "\n",
    "#drop columns that are empty\n",
    "literacy.drop(['86.3', '90', '82.7', '7.3\\t'], inplace = True, axis = 1)\n",
    "\n",
    "\n",
    "#merge all data frames together\n",
    "gl = gdp.merge(literacy, on='country', how = 'outer')\n",
    "glu = gl.merge(unemployment, on='country', how = 'outer')\n",
    "df = glu.merge(youth, on='country', how = 'outer')\n",
    "\n",
    "#fix column names that contain spaces\n",
    "cols = []\n",
    "for col in list(df.columns):\n",
    "    col = col.replace(\" \", \"\")\n",
    "    cols.append(col)\n",
    "df.columns = cols\n",
    "\n",
    "df.head()"
   ]
  },
  {
   "cell_type": "code",
   "execution_count": 161,
   "metadata": {},
   "outputs": [
    {
     "data": {
      "text/plain": [
       "country                           100.000000\n",
       "growth_rate                        68.817204\n",
       "literacy_rate_percent_all          54.121864\n",
       "male_literacy_percent_rate         54.121864\n",
       "female_literacy_percent_rate       54.121864\n",
       "gender_difference_percentWorld     54.121864\n",
       "unemployment_percentage            78.853047\n",
       "youth_percentage                   82.795699\n",
       "dtype: float64"
      ]
     },
     "execution_count": 161,
     "metadata": {},
     "output_type": "execute_result"
    }
   ],
   "source": [
    "#find the percent of data that is present in each column\n",
    "(df.shape[0] - df.isnull().sum())/df.shape[0] * 100"
   ]
  },
  {
   "cell_type": "code",
   "execution_count": 162,
   "metadata": {},
   "outputs": [
    {
     "data": {
      "text/plain": [
       "(279, 8)"
      ]
     },
     "execution_count": 162,
     "metadata": {},
     "output_type": "execute_result"
    }
   ],
   "source": [
    "#the most data is missing in the literacy and gender difference columns\n",
    "\n",
    "#get total df size\n",
    "df.shape"
   ]
  },
  {
   "cell_type": "code",
   "execution_count": 163,
   "metadata": {},
   "outputs": [
    {
     "data": {
      "text/plain": [
       "276"
      ]
     },
     "execution_count": 163,
     "metadata": {},
     "output_type": "execute_result"
    }
   ],
   "source": [
    "#Is this the same as the number of **unique** values in the country column?\n",
    "df['country'].nunique()"
   ]
  },
  {
   "cell_type": "code",
   "execution_count": 164,
   "metadata": {},
   "outputs": [
    {
     "data": {
      "text/plain": [
       "(276, 8)"
      ]
     },
     "execution_count": 164,
     "metadata": {},
     "output_type": "execute_result"
    }
   ],
   "source": [
    "#Let's remove rows where there are duplicate country names\n",
    "df.drop_duplicates(subset='country', keep=\"first\", inplace = True)\n",
    "df.shape"
   ]
  },
  {
   "cell_type": "code",
   "execution_count": 165,
   "metadata": {},
   "outputs": [
    {
     "data": {
      "text/plain": [
       "217"
      ]
     },
     "execution_count": 165,
     "metadata": {},
     "output_type": "execute_result"
    }
   ],
   "source": [
    "#how many values are *present* in the \"unemployment_percentage\" column\n",
    "df.shape[0] - df['unemployment_percentage'].isnull().sum()"
   ]
  },
  {
   "cell_type": "code",
   "execution_count": 166,
   "metadata": {},
   "outputs": [
    {
     "data": {
      "text/plain": [
       "(array([0, 1, 2, 3, 4, 5, 6]), <a list of 7 Text xticklabel objects>)"
      ]
     },
     "execution_count": 166,
     "metadata": {},
     "output_type": "execute_result"
    },
    {
     "data": {
      "image/png": "[encoded data removed]",
      "text/plain": [
       "<Figure size 432x288 with 1 Axes>"
      ]
     },
     "metadata": {
      "needs_background": "light"
     },
     "output_type": "display_data"
    }
   ],
   "source": [
    "#That's a lot of missing data. Let's see how the data are distributed.\n",
    "sns.violinplot(data=df[1:8])\n",
    "plt.xticks(rotation=90)"
   ]
  },
  {
   "cell_type": "code",
   "execution_count": 167,
   "metadata": {},
   "outputs": [
    {
     "name": "stderr",
     "output_type": "stream",
     "text": [
      "/Users/egill/anaconda3/lib/python3.7/site-packages/numpy/lib/histograms.py:829: RuntimeWarning: invalid value encountered in greater_equal\n",
      "  keep = (tmp_a >= first_edge)\n",
      "/Users/egill/anaconda3/lib/python3.7/site-packages/numpy/lib/histograms.py:830: RuntimeWarning: invalid value encountered in less_equal\n",
      "  keep &= (tmp_a <= last_edge)\n"
     ]
    },
    {
     "data": {
      "text/plain": [
       "<matplotlib.lines.Line2D at 0x7fb9ca014dd0>"
      ]
     },
     "execution_count": 167,
     "metadata": {},
     "output_type": "execute_result"
    },
    {
     "data": {
      "image/png": "[encoded data removed]",
      "text/plain": [
       "<Figure size 432x288 with 1 Axes>"
      ]
     },
     "metadata": {
      "needs_background": "light"
     },
     "output_type": "display_data"
    }
   ],
   "source": [
    "#I'd like to get a better look at the distribution of the unemployment data\n",
    "plt.hist(df['unemployment_percentage'], bins=20, edgecolor=\"black\")\n",
    "plt.xlabel('Percent of Residents Unemployed')\n",
    "plt.ylabel('Count')\n",
    "#let's plot the data mean with a red line\n",
    "plt.axvline(df['unemployment_percentage'].mean(), color=\"red\", linewidth = 1)\n",
    "#and the data median with a green line\n",
    "plt.axvline(df['unemployment_percentage'].median(), color=\"green\", linewidth = 1)"
   ]
  },
  {
   "cell_type": "code",
   "execution_count": 168,
   "metadata": {},
   "outputs": [
    {
     "data": {
      "text/html": [
       "<div>\n",
       "<style scoped>\n",
       "    .dataframe tbody tr th:only-of-type {\n",
       "        vertical-align: middle;\n",
       "    }\n",
       "\n",
       "    .dataframe tbody tr th {\n",
       "        vertical-align: top;\n",
       "    }\n",
       "\n",
       "    .dataframe thead th {\n",
       "        text-align: right;\n",
       "    }\n",
       "</style>\n",
       "<table border=\"1\" class=\"dataframe\">\n",
       "  <thead>\n",
       "    <tr style=\"text-align: right;\">\n",
       "      <th></th>\n",
       "      <th>country</th>\n",
       "      <th>growth_rate</th>\n",
       "      <th>literacy_rate_percent_all</th>\n",
       "      <th>male_literacy_percent_rate</th>\n",
       "      <th>female_literacy_percent_rate</th>\n",
       "      <th>gender_difference_percentWorld</th>\n",
       "      <th>unemployment_percentage</th>\n",
       "      <th>youth_percentage</th>\n",
       "    </tr>\n",
       "  </thead>\n",
       "  <tbody>\n",
       "    <tr>\n",
       "      <th>0</th>\n",
       "      <td>Bangladesh</td>\n",
       "      <td>13.438</td>\n",
       "      <td>61.5</td>\n",
       "      <td>64.6</td>\n",
       "      <td>58.5</td>\n",
       "      <td>6.1</td>\n",
       "      <td>4.1</td>\n",
       "      <td>28.3</td>\n",
       "    </tr>\n",
       "    <tr>\n",
       "      <th>1</th>\n",
       "      <td>Ethiopia</td>\n",
       "      <td>8.464</td>\n",
       "      <td>49.1</td>\n",
       "      <td>57.2</td>\n",
       "      <td>41.1</td>\n",
       "      <td>16.1</td>\n",
       "      <td>17.5</td>\n",
       "      <td>43.7</td>\n",
       "    </tr>\n",
       "    <tr>\n",
       "      <th>2</th>\n",
       "      <td>China</td>\n",
       "      <td>6.800</td>\n",
       "      <td>96.4</td>\n",
       "      <td>98.2</td>\n",
       "      <td>94.5</td>\n",
       "      <td>3.7</td>\n",
       "      <td>4.0</td>\n",
       "      <td>17.1</td>\n",
       "    </tr>\n",
       "    <tr>\n",
       "      <th>3</th>\n",
       "      <td>Ivory Coast Cote d'Ivoire</td>\n",
       "      <td>7.632</td>\n",
       "      <td>NaN</td>\n",
       "      <td>NaN</td>\n",
       "      <td>NaN</td>\n",
       "      <td>NaN</td>\n",
       "      <td>NaN</td>\n",
       "      <td>NaN</td>\n",
       "    </tr>\n",
       "    <tr>\n",
       "      <th>4</th>\n",
       "      <td>Nepal</td>\n",
       "      <td>7.499</td>\n",
       "      <td>64.7</td>\n",
       "      <td>75.6</td>\n",
       "      <td>55.1</td>\n",
       "      <td>20.5</td>\n",
       "      <td>3.3</td>\n",
       "      <td>30.9</td>\n",
       "    </tr>\n",
       "  </tbody>\n",
       "</table>\n",
       "</div>"
      ],
      "text/plain": [
       "                     country  growth_rate  literacy_rate_percent_all  \\\n",
       "0                 Bangladesh       13.438                       61.5   \n",
       "1                   Ethiopia        8.464                       49.1   \n",
       "2                      China        6.800                       96.4   \n",
       "3  Ivory Coast Cote d'Ivoire        7.632                        NaN   \n",
       "4                      Nepal        7.499                       64.7   \n",
       "\n",
       "   male_literacy_percent_rate  female_literacy_percent_rate  \\\n",
       "0                        64.6                          58.5   \n",
       "1                        57.2                          41.1   \n",
       "2                        98.2                          94.5   \n",
       "3                         NaN                           NaN   \n",
       "4                        75.6                          55.1   \n",
       "\n",
       "   gender_difference_percentWorld  unemployment_percentage  youth_percentage  \n",
       "0                             6.1                      4.1              28.3  \n",
       "1                            16.1                     17.5              43.7  \n",
       "2                             3.7                      4.0              17.1  \n",
       "3                             NaN                      NaN               NaN  \n",
       "4                            20.5                      3.3              30.9  "
      ]
     },
     "execution_count": 168,
     "metadata": {},
     "output_type": "execute_result"
    }
   ],
   "source": [
    "#Looks like the data have a right-skewed distribution. Most countries have a relatively low rate of unemployment,\n",
    "#but some countries are particularly hard-hit.\n",
    "\n",
    "#Let's investigate which factors in our data frame are correlated with unemployment.\n",
    "\n",
    "#First we'll have to clean the data.\n",
    "df.head()"
   ]
  },
  {
   "cell_type": "code",
   "execution_count": 169,
   "metadata": {},
   "outputs": [],
   "source": [
    "def clean_data(df):\n",
    "    # Drop rows with missing unemployment values, country name\n",
    "    df.dropna(subset=['unemployment_percentage'], axis=0, inplace = True)\n",
    "\n",
    "    y = df['unemployment_percentage']\n",
    "    \n",
    "    df1 = df.drop(['country', 'unemployment_percentage'], axis = 1)\n",
    "    \n",
    "    # Fill numeric columns with the mean\n",
    "    num_vars = df1.select_dtypes(include=['float', 'int']).columns\n",
    "    for col in num_vars:\n",
    "        df1[col].fillna((df1[col].mean()), inplace=True)\n",
    "        \n",
    "    X = df1\n",
    "    return X, y\n",
    "    \n",
    "#Use the function to create X and y\n",
    "X, y = clean_data(df)  \n"
   ]
  },
  {
   "cell_type": "code",
   "execution_count": 170,
   "metadata": {},
   "outputs": [
    {
     "name": "stdout",
     "output_type": "stream",
     "text": [
      "(217, 6)\n",
      "(217,)\n"
     ]
    }
   ],
   "source": [
    "#let's check whether everything worked as expected\n",
    "print(X.shape)\n",
    "print(y.shape)"
   ]
  },
  {
   "cell_type": "code",
   "execution_count": 171,
   "metadata": {},
   "outputs": [
    {
     "data": {
      "text/plain": [
       "growth_rate                       100.0\n",
       "literacy_rate_percent_all         100.0\n",
       "male_literacy_percent_rate        100.0\n",
       "female_literacy_percent_rate      100.0\n",
       "gender_difference_percentWorld    100.0\n",
       "youth_percentage                  100.0\n",
       "dtype: float64"
      ]
     },
     "execution_count": 171,
     "metadata": {},
     "output_type": "execute_result"
    }
   ],
   "source": [
    "#Looks like we have all 217 rows that contain names of countries. \n",
    "#Sanity check to make sure all NaNs in X have been filled\n",
    "(X.shape[0] - X.isnull().sum())/X.shape[0] * 100"
   ]
  },
  {
   "cell_type": "code",
   "execution_count": 172,
   "metadata": {},
   "outputs": [
    {
     "name": "stdout",
     "output_type": "stream",
     "text": [
      "0.09722067090039954 0.08758428784855143\n"
     ]
    }
   ],
   "source": [
    "#Now we'll fit a linear model\n",
    "#split data\n",
    "X_train, X_test, y_train, y_test = train_test_split(X, y, test_size = 0.3, random_state=3) \n",
    "\n",
    "\n",
    "lm_model = LinearRegression(normalize=True) \n",
    "lm_model.fit(X_train, y_train)\n",
    "    \n",
    "y_train_preds = lm_model.predict(X_train)\n",
    "train_score = (r2_score(y_train, y_train_preds))\n",
    "    \n",
    "y_test_preds = lm_model.predict(X_test) \n",
    "test_score = (r2_score(y_test, y_test_preds))\n",
    " \n",
    "\n",
    "print(test_score, train_score)"
   ]
  },
  {
   "cell_type": "code",
   "execution_count": 173,
   "metadata": {},
   "outputs": [
    {
     "data": {
      "text/html": [
       "<div>\n",
       "<style scoped>\n",
       "    .dataframe tbody tr th:only-of-type {\n",
       "        vertical-align: middle;\n",
       "    }\n",
       "\n",
       "    .dataframe tbody tr th {\n",
       "        vertical-align: top;\n",
       "    }\n",
       "\n",
       "    .dataframe thead th {\n",
       "        text-align: right;\n",
       "    }\n",
       "</style>\n",
       "<table border=\"1\" class=\"dataframe\">\n",
       "  <thead>\n",
       "    <tr style=\"text-align: right;\">\n",
       "      <th></th>\n",
       "      <th>est_int</th>\n",
       "      <th>coefs</th>\n",
       "      <th>abs_coefs</th>\n",
       "    </tr>\n",
       "  </thead>\n",
       "  <tbody>\n",
       "    <tr>\n",
       "      <th>3</th>\n",
       "      <td>female_literacy_percent_rate</td>\n",
       "      <td>14.678218</td>\n",
       "      <td>14.678218</td>\n",
       "    </tr>\n",
       "    <tr>\n",
       "      <th>4</th>\n",
       "      <td>gender_difference_percentWorld</td>\n",
       "      <td>12.286586</td>\n",
       "      <td>12.286586</td>\n",
       "    </tr>\n",
       "    <tr>\n",
       "      <th>2</th>\n",
       "      <td>male_literacy_percent_rate</td>\n",
       "      <td>-9.638249</td>\n",
       "      <td>9.638249</td>\n",
       "    </tr>\n",
       "    <tr>\n",
       "      <th>1</th>\n",
       "      <td>literacy_rate_percent_all</td>\n",
       "      <td>-4.945861</td>\n",
       "      <td>4.945861</td>\n",
       "    </tr>\n",
       "    <tr>\n",
       "      <th>0</th>\n",
       "      <td>growth_rate</td>\n",
       "      <td>-0.595563</td>\n",
       "      <td>0.595563</td>\n",
       "    </tr>\n",
       "    <tr>\n",
       "      <th>5</th>\n",
       "      <td>youth_percentage</td>\n",
       "      <td>0.381763</td>\n",
       "      <td>0.381763</td>\n",
       "    </tr>\n",
       "  </tbody>\n",
       "</table>\n",
       "</div>"
      ],
      "text/plain": [
       "                          est_int      coefs  abs_coefs\n",
       "3    female_literacy_percent_rate  14.678218  14.678218\n",
       "4  gender_difference_percentWorld  12.286586  12.286586\n",
       "2      male_literacy_percent_rate  -9.638249   9.638249\n",
       "1       literacy_rate_percent_all  -4.945861   4.945861\n",
       "0                     growth_rate  -0.595563   0.595563\n",
       "5                youth_percentage   0.381763   0.381763"
      ]
     },
     "execution_count": 173,
     "metadata": {},
     "output_type": "execute_result"
    }
   ],
   "source": [
    "#It looks like only about 9% of the variation we're seeing in the unemployment rates\n",
    "#can be explained by the factors that we're examining here.\n",
    "\n",
    "#Let's look at what the most influential variables are\n",
    "def coef_weights(coefficients, X_train):\n",
    "\n",
    "    coefs_df = pd.DataFrame()\n",
    "    coefs_df['est_int'] = X_train.columns\n",
    "    coefs_df['coefs'] = lm_model.coef_\n",
    "    coefs_df['abs_coefs'] = np.abs(lm_model.coef_)\n",
    "    coefs_df = coefs_df.sort_values('abs_coefs', ascending=False)\n",
    "    return coefs_df\n",
    "\n",
    "#Use the function\n",
    "coef_df = coef_weights(lm_model.coef_, X_train)\n",
    "\n",
    "#A quick look at the top results\n",
    "coef_df"
   ]
  },
  {
   "cell_type": "code",
   "execution_count": 177,
   "metadata": {},
   "outputs": [
    {
     "data": {
      "text/plain": [
       "Text(0, 0.5, 'Percent of Residents Unemployed')"
      ]
     },
     "execution_count": 177,
     "metadata": {},
     "output_type": "execute_result"
    },
    {
     "data": {
      "image/png": "[encoded data removed]",
      "text/plain": [
       "<Figure size 432x288 with 1 Axes>"
      ]
     },
     "metadata": {
      "needs_background": "light"
     },
     "output_type": "display_data"
    }
   ],
   "source": [
    "#It looks like percent of the female popluation of a country that is literate has the largest \n",
    "#effect on unemployment, followed by the percent gender difference.\n",
    "\n",
    "#First, let's plot female literacy against unemployment to explore this relationship further\n",
    "plt.scatter(df['female_literacy_percent_rate'], df['unemployment_percentage'])\n",
    "plt.xlabel('Percent of Females who are Literate')\n",
    "plt.ylabel('Percent of Residents Unemployed')"
   ]
  },
  {
   "cell_type": "code",
   "execution_count": 178,
   "metadata": {},
   "outputs": [
    {
     "data": {
      "text/plain": [
       "Text(0, 0.5, 'Percent of Residents Unemployed')"
      ]
     },
     "execution_count": 178,
     "metadata": {},
     "output_type": "execute_result"
    },
    {
     "data": {
      "image/png": "[encoded data removed]",
      "text/plain": [
       "<Figure size 432x288 with 1 Axes>"
      ]
     },
     "metadata": {
      "needs_background": "light"
     },
     "output_type": "display_data"
    }
   ],
   "source": [
    "plt.scatter(df['gender_difference_percentWorld'], df['unemployment_percentage'])\n",
    "plt.xlabel('Percent Gender Difference')\n",
    "plt.ylabel('Percent of Residents Unemployed')"
   ]
  },
  {
   "cell_type": "code",
   "execution_count": 179,
   "metadata": {},
   "outputs": [
    {
     "data": {
      "text/plain": [
       "Text(0, 0.5, 'Percent of Residents Unemployed')"
      ]
     },
     "execution_count": 179,
     "metadata": {},
     "output_type": "execute_result"
    },
    {
     "data": {
      "image/png": "[encoded data removed]",
      "text/plain": [
       "<Figure size 432x288 with 1 Axes>"
      ]
     },
     "metadata": {
      "needs_background": "light"
     },
     "output_type": "display_data"
    }
   ],
   "source": [
    "plt.scatter(df['male_literacy_percent_rate'], df['unemployment_percentage'])\n",
    "plt.xlabel('Percent of Males who are Literate')\n",
    "plt.ylabel('Percent of Residents Unemployed')"
   ]
  },
  {
   "cell_type": "code",
   "execution_count": null,
   "metadata": {},
   "outputs": [],
   "source": []
  }
 ],
 "metadata": {
  "kernelspec": {
   "display_name": "Python 3",
   "language": "python",
   "name": "python3"
  },
  "language_info": {
   "codemirror_mode": {
    "name": "ipython",
    "version": 3
   },
   "file_extension": ".py",
   "mimetype": "text/x-python",
   "name": "python",
   "nbconvert_exporter": "python",
   "pygments_lexer": "ipython3",
   "version": "3.7.4"
  }
 },
 "nbformat": 4,
 "nbformat_minor": 2
}
