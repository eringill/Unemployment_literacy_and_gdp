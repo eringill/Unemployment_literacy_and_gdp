{
 "cells": [
  {
   "cell_type": "code",
   "execution_count": 11,
   "metadata": {},
   "outputs": [],
   "source": [
    "import pandas as pd\n",
    "from matplotlib import pyplot as plt\n",
    "\n",
    "\n",
    "gdp = pd.read_csv(\"data/datasets_15310_20369_gdp_improvement_rate.csv\")\n",
    "literacy = pd.read_csv(\"data/datasets_15310_20369_literacy_rate.csv\")\n",
    "unemployment = pd.read_csv(\"data/datasets_15310_20369_unemployment.csv\")\n",
    "youth = pd.read_csv(\"data/datasets_15310_20369_youth.csv\")\n",
    "\n",
    "#drop columns that are empty\n",
    "literacy.drop(['86.3', '90.0', '82.7', '7.3\\t'], inplace = True, axis = 1)\n",
    "\n",
    "p\n",
    "\n"
   ]
  },
  {
   "cell_type": "code",
   "execution_count": null,
   "metadata": {},
   "outputs": [],
   "source": []
  }
 ],
 "metadata": {
  "kernelspec": {
   "display_name": "Python 3",
   "language": "python",
   "name": "python3"
  },
  "language_info": {
   "codemirror_mode": {
    "name": "ipython",
    "version": 3
   },
   "file_extension": ".py",
   "mimetype": "text/x-python",
   "name": "python",
   "nbconvert_exporter": "python",
   "pygments_lexer": "ipython3",
   "version": "3.7.4"
  }
 },
 "nbformat": 4,
 "nbformat_minor": 2
}
